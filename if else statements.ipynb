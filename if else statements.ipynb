{
 "cells": [
  {
   "cell_type": "code",
   "execution_count": null,
   "id": "ef2518c6",
   "metadata": {},
   "outputs": [],
   "source": [
    "#If - Elif - Else Statements"
   ]
  },
  {
   "cell_type": "code",
   "execution_count": 1,
   "id": "c2d89d83",
   "metadata": {},
   "outputs": [
    {
     "name": "stdout",
     "output_type": "stream",
     "text": [
      "It worked!\n"
     ]
    }
   ],
   "source": [
    "if 25 > 10:\n",
    "     print('It worked!')\n",
    "       "
   ]
  },
  {
   "cell_type": "code",
   "execution_count": 3,
   "id": "a9f7c452",
   "metadata": {},
   "outputs": [],
   "source": [
    "if 25 < 10:\n",
    "    print('It worked!')"
   ]
  },
  {
   "cell_type": "code",
   "execution_count": 4,
   "id": "b3e53fa7",
   "metadata": {},
   "outputs": [
    {
     "name": "stdout",
     "output_type": "stream",
     "text": [
      "It did not work...\n"
     ]
    }
   ],
   "source": [
    "if 25 < 10:\n",
    "    print('It worked!')\n",
    "else:\n",
    "    print('It did not work...')"
   ]
  },
  {
   "cell_type": "code",
   "execution_count": 5,
   "id": "0c3f59d5",
   "metadata": {},
   "outputs": [
    {
     "name": "stdout",
     "output_type": "stream",
     "text": [
      "It worked!\n"
     ]
    }
   ],
   "source": [
    "if 25 > 10:\n",
    "    print('It worked!')\n",
    "else:\n",
    "    print('It did not work...')"
   ]
  },
  {
   "cell_type": "code",
   "execution_count": 7,
   "id": "1a90085c",
   "metadata": {},
   "outputs": [
    {
     "name": "stdout",
     "output_type": "stream",
     "text": [
      "elif worked!\n"
     ]
    }
   ],
   "source": [
    "if 25 < 10:\n",
    "    print('It worked!')\n",
    "elif 25 < 30:\n",
    "    print('elif worked!')\n",
    "else:\n",
    "    print('It did not work...')"
   ]
  },
  {
   "cell_type": "code",
   "execution_count": 8,
   "id": "9cc57672",
   "metadata": {},
   "outputs": [
    {
     "name": "stdout",
     "output_type": "stream",
     "text": [
      "elif 3 worked!\n"
     ]
    }
   ],
   "source": [
    "if 25 < 10:\n",
    "    print('It worked!')\n",
    "elif 25 < 20:\n",
    "    print('elif worked!')\n",
    "elif 25 < 21:\n",
    "    print('elif 2 worked!')\n",
    "elif 25 < 40:\n",
    "    print('elif 3 worked!')\n",
    "elif 25 < 50:\n",
    "    print('elif 4 worked!')\n",
    "else:\n",
    "    print('It did not work...')"
   ]
  },
  {
   "cell_type": "code",
   "execution_count": 9,
   "id": "09ebce45",
   "metadata": {},
   "outputs": [
    {
     "name": "stdout",
     "output_type": "stream",
     "text": [
      "It worked!\n"
     ]
    }
   ],
   "source": [
    "if (25 < 10) or (1 < 3):\n",
    "    print('It worked!')\n",
    "elif 25 < 20:\n",
    "    print('elif worked!')\n",
    "elif 25 < 21:\n",
    "    print('elif 2 worked!')\n",
    "elif 25 < 40:\n",
    "    print('elif 3 worked!')\n",
    "elif 25 < 50:\n",
    "    print('elif 4 worked!')\n",
    "else:\n",
    "    print('It did not work...')"
   ]
  },
  {
   "cell_type": "code",
   "execution_count": 10,
   "id": "49e0a5c0",
   "metadata": {},
   "outputs": [
    {
     "name": "stdout",
     "output_type": "stream",
     "text": [
      "It did not work...\n"
     ]
    }
   ],
   "source": [
    "print('It worked!') if 10>30 else print('It did not work...')"
   ]
  },
  {
   "cell_type": "code",
   "execution_count": 12,
   "id": "ffc8661a",
   "metadata": {},
   "outputs": [
    {
     "name": "stdout",
     "output_type": "stream",
     "text": [
      "It worked!\n"
     ]
    }
   ],
   "source": [
    "if (25 < 10) or (1 < 3):\n",
    "    print('It worked!')\n",
    "elif 25 < 20:\n",
    "    print('elif worked!')\n",
    "elif 25 < 21:\n",
    "    print('elif 2 worked!')\n",
    "elif 25 < 40:\n",
    "    print('elif 3 worked!')\n",
    "elif 25 < 50:\n",
    "    print('elif 4 worked!')\n",
    "else:\n",
    "    print('It did not work...')"
   ]
  },
  {
   "cell_type": "code",
   "execution_count": 13,
   "id": "389cef42",
   "metadata": {},
   "outputs": [
    {
     "name": "stdout",
     "output_type": "stream",
     "text": [
      "It worked!\n",
      "This nested if statement worked!\n"
     ]
    }
   ],
   "source": [
    "if (25 < 10) or (1 < 3):\n",
    "    print('It worked!')\n",
    "    if 10 > 5:\n",
    "        print('This nested if statement worked!')\n",
    "elif 25 < 20:\n",
    "    print('elif worked!')\n",
    "elif 25 < 21:\n",
    "    print('elif 2 worked!')\n",
    "elif 25 < 40:\n",
    "    print('elif 3 worked!')\n",
    "elif 25 < 50:\n",
    "    print('elif 4 worked!')\n",
    "else:\n",
    "    print('It did not work...')"
   ]
  },
  {
   "cell_type": "code",
   "execution_count": 15,
   "id": "5706ab90",
   "metadata": {},
   "outputs": [
    {
     "name": "stdout",
     "output_type": "stream",
     "text": [
      "It worked!\n",
      "This nested if statement worked!\n",
      "enough with the if else statements\n"
     ]
    }
   ],
   "source": [
    "if (25 < 10) or (1 < 3):\n",
    "    print('It worked!')\n",
    "    if 10 > 5:\n",
    "        print('This nested if statement worked!')\n",
    "        if 4 < 6:\n",
    "            print('enough with the if else statements')\n",
    "elif 25 < 20:\n",
    "    print('elif worked!')\n",
    "elif 25 < 21:\n",
    "    print('elif 2 worked!')\n",
    "elif 25 < 40:\n",
    "    print('elif 3 worked!')\n",
    "elif 25 < 50:\n",
    "    print('elif 4 worked!')\n",
    "else:\n",
    "    print('It did not work...')"
   ]
  }
 ],
 "metadata": {
  "kernelspec": {
   "display_name": "Python 3 (ipykernel)",
   "language": "python",
   "name": "python3"
  },
  "language_info": {
   "codemirror_mode": {
    "name": "ipython",
    "version": 3
   },
   "file_extension": ".py",
   "mimetype": "text/x-python",
   "name": "python",
   "nbconvert_exporter": "python",
   "pygments_lexer": "ipython3",
   "version": "3.9.12"
  }
 },
 "nbformat": 4,
 "nbformat_minor": 5
}
