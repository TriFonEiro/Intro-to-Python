{
 "cells": [
  {
   "cell_type": "code",
   "execution_count": 8,
   "metadata": {},
   "outputs": [],
   "source": [
    "my_class=[\"George\",\"Trifon\",\"Arjun\",\"Jost\",\"Killian\",\"Virginia\",\"Sarah\",\"Lucas\",\"Ottavia\",\"Jaser\",\"Stian\",\"Jess\",\"Arno\",\"Nayab\"]"
   ]
  },
  {
   "cell_type": "code",
   "execution_count": 9,
   "metadata": {},
   "outputs": [
    {
     "data": {
      "text/plain": [
       "['Arjun',\n",
       " 'Arno',\n",
       " 'George',\n",
       " 'Jaser',\n",
       " 'Jess',\n",
       " 'Jost',\n",
       " 'Killian',\n",
       " 'Lucas',\n",
       " 'Nayab',\n",
       " 'Ottavia',\n",
       " 'Sarah',\n",
       " 'Stian',\n",
       " 'Trifon',\n",
       " 'Virginia']"
      ]
     },
     "execution_count": 9,
     "metadata": {},
     "output_type": "execute_result"
    }
   ],
   "source": [
    "sorted(my_class)"
   ]
  },
  {
   "cell_type": "code",
   "execution_count": 12,
   "metadata": {},
   "outputs": [
    {
     "data": {
      "text/plain": [
       "['Arjun',\n",
       " 'Arno',\n",
       " 'George',\n",
       " 'Jaser',\n",
       " 'Jess',\n",
       " 'Jost',\n",
       " 'Killian',\n",
       " 'Lucas',\n",
       " 'Nayab',\n",
       " 'Ottavia',\n",
       " 'Sarah',\n",
       " 'Stian',\n",
       " 'Trifon',\n",
       " 'Virginia']"
      ]
     },
     "execution_count": 12,
     "metadata": {},
     "output_type": "execute_result"
    }
   ],
   "source": [
    "my_class.sort()\n",
    "my_class"
   ]
  },
  {
   "cell_type": "code",
   "execution_count": 14,
   "metadata": {},
   "outputs": [
    {
     "name": "stdout",
     "output_type": "stream",
     "text": [
      "Arjun\n"
     ]
    }
   ],
   "source": [
    "print(my_class[0])"
   ]
  },
  {
   "cell_type": "code",
   "execution_count": 21,
   "metadata": {},
   "outputs": [
    {
     "name": "stdout",
     "output_type": "stream",
     "text": [
      "Virginia\n"
     ]
    }
   ],
   "source": [
    "print(my_class[13])"
   ]
  },
  {
   "cell_type": "code",
   "execution_count": 20,
   "metadata": {},
   "outputs": [
    {
     "name": "stdout",
     "output_type": "stream",
     "text": [
      "Arjun\n",
      "Arno\n",
      "George\n",
      "Jaser\n",
      "Jess\n",
      "Jost\n",
      "Killian\n",
      "Lucas\n",
      "Nayab\n",
      "Ottavia\n",
      "Sarah\n",
      "Stian\n",
      "Trifon\n",
      "Virginia\n"
     ]
    }
   ],
   "source": [
    "for student in my_class:\n",
    "    print(student)"
   ]
  },
  {
   "cell_type": "code",
   "execution_count": 65,
   "metadata": {},
   "outputs": [
    {
     "name": "stdout",
     "output_type": "stream",
     "text": [
      "18\n",
      "43\n",
      "34\n",
      "67\n",
      "32\n",
      "37\n",
      "42\n",
      "38\n",
      "34\n",
      "25\n",
      "27\n",
      "28\n",
      "29\n",
      "33\n",
      "32\n",
      "31\n"
     ]
    }
   ],
   "source": [
    "class_age=[18,43,34,67,32,37,42,38,34,25,27,28,29,33,32,31]\n",
    "for age in class_age:\n",
    "    print(age)"
   ]
  },
  {
   "cell_type": "code",
   "execution_count": 25,
   "metadata": {},
   "outputs": [
    {
     "data": {
      "text/plain": [
       "[18, 25, 27, 28, 29, 31, 32, 32, 33, 34, 34, 37, 38, 42, 43, 67]"
      ]
     },
     "execution_count": 25,
     "metadata": {},
     "output_type": "execute_result"
    }
   ],
   "source": [
    "sorted(class_age)"
   ]
  },
  {
   "cell_type": "code",
   "execution_count": 26,
   "metadata": {},
   "outputs": [
    {
     "data": {
      "text/plain": [
       "[18, 25, 27, 28, 29, 31, 32, 32, 33, 34, 34, 37, 38, 42, 43, 67]"
      ]
     },
     "execution_count": 26,
     "metadata": {},
     "output_type": "execute_result"
    }
   ],
   "source": [
    "class_age.sort()\n",
    "class_age"
   ]
  },
  {
   "cell_type": "code",
   "execution_count": 48,
   "metadata": {},
   "outputs": [
    {
     "name": "stdout",
     "output_type": "stream",
     "text": [
      "18 28 32 32 34 34 38 42 "
     ]
    }
   ],
   "source": [
    "for num in class_age:\n",
    "     if num % 2 == 0:\n",
    "        print(num,end=\" \")"
   ]
  },
  {
   "cell_type": "code",
   "execution_count": 60,
   "metadata": {},
   "outputs": [
    {
     "data": {
      "text/plain": [
       "16"
      ]
     },
     "execution_count": 60,
     "metadata": {},
     "output_type": "execute_result"
    }
   ],
   "source": [
    "mikos=len(class_age)\n",
    "mikos"
   ]
  },
  {
   "cell_type": "code",
   "execution_count": 2,
   "metadata": {},
   "outputs": [
    {
     "name": "stdout",
     "output_type": "stream",
     "text": [
      "18,34,32,42,38,34,28,32,"
     ]
    }
   ],
   "source": [
    "class_age=[18,43,34,67,32,37,42,38,34,25,27,28,29,33,32,31]\n",
    "num=0\n",
    "while(num<len(class_age)):\n",
    "    if class_age[num] % 2 == 0:\n",
    "        print(class_age[num],end=\",\")\n",
    "    num +=1\n"
   ]
  },
  {
   "cell_type": "code",
   "execution_count": 3,
   "metadata": {},
   "outputs": [
    {
     "name": "stdout",
     "output_type": "stream",
     "text": [
      "4\n"
     ]
    }
   ],
   "source": [
    "numbers_list=[4,54,5,34,62,76,3247,4,5,52,213,8,73434,7,6,54,42,342,54,65,76,8,4,43,6,6,7,8,7,54,547,68,8,86]\n",
    "numbers_list.sort()\n",
    "print(numbers_list[0])\n"
   ]
  },
  {
   "cell_type": "code",
   "execution_count": null,
   "metadata": {},
   "outputs": [
    {
     "name": "stdout",
     "output_type": "stream",
     "text": [
      "73434\n"
     ]
    }
   ],
   "source": [
    "numbers_list.sort(reverse=True)\n",
    "print(numbers_list[0])"
   ]
  },
  {
   "cell_type": "code",
   "execution_count": null,
   "metadata": {},
   "outputs": [
    {
     "name": "stdout",
     "output_type": "stream",
     "text": [
      "23\n",
      "27\n",
      "17\n",
      "12\n",
      "15\n",
      "16\n",
      "28\n",
      "26\n",
      "43\n",
      "14\n"
     ]
    }
   ],
   "source": [
    "customers_age=[1999, 1995, 2005, 2010, 2007, 2006, 1994, 1996, 1979, 2008]\n",
    "for age in customers_age:\n",
    "    print(2022-age)"
   ]
  },
  {
   "cell_type": "code",
   "execution_count": null,
   "metadata": {},
   "outputs": [
    {
     "name": "stdout",
     "output_type": "stream",
     "text": [
      "23\n",
      "27\n",
      "17\n",
      "12\n",
      "15\n",
      "16\n",
      "28\n",
      "26\n",
      "43\n",
      "14\n"
     ]
    }
   ],
   "source": [
    "customers_age=[1999, 1995, 2005, 2010, 2007, 2006, 1994, 1996, 1979, 2008]\n",
    "i=0\n",
    "while(i<len(customers_age)):\n",
    "    print(2022-customers_age[i])\n",
    "    i+=1\n",
    "    "
   ]
  },
  {
   "cell_type": "code",
   "execution_count": null,
   "metadata": {},
   "outputs": [],
   "source": [
    "customer_list = [\n",
    "                    {\"name\": \"Bob\", \"age\": 1999},\n",
    "                    {\"name\": \"Jack\", \"age\": 1995},\n",
    "                    {\"name\": \"Lisa\", \"age\": 2005},\n",
    "                    {\"name\": \"Maria\", \"age\": 2010},\n",
    "                    {\"name\": \"Ben\", \"age\": 2007},\n",
    "                    {\"name\": \"Emma\", \"age\": 2006},\n",
    "                    {\"name\": \"Oscar\", \"age\": 1994},\n",
    "                    {\"name\": \"Amy\", \"age\": 1996},\n",
    "                    {\"name\": \"Paul\", \"age\": 1979},\n",
    "                    {\"name\": \"Etta\", \"age\": 2008}\n",
    "                ]"
   ]
  },
  {
   "cell_type": "code",
   "execution_count": 1,
   "metadata": {},
   "outputs": [],
   "source": [
    "import numpy as np"
   ]
  },
  {
   "cell_type": "code",
   "execution_count": 2,
   "metadata": {},
   "outputs": [
    {
     "data": {
      "text/plain": [
       "array([-0.2049491 ,  1.1972912 , -1.09145895, ..., -1.72843167,\n",
       "        1.67222596, -0.2209055 ])"
      ]
     },
     "execution_count": 2,
     "metadata": {},
     "output_type": "execute_result"
    }
   ],
   "source": [
    "x = np.arange(15, dtype=np.int64).reshape(3, 5)\n",
    "x[1:, ::2] = -99\n",
    "x\n",
    "# array([[  0,   1,   2,   3,   4],\n",
    "#        [-99,   6, -99,   8, -99],\n",
    "#        [-99,  11, -99,  13, -99]])\n",
    "\n",
    "x.max(axis=1)\n",
    "# array([ 4,  8, 13])\n",
    "\n",
    "# Generate normally distributed random numbers:\n",
    "rng = np.random.default_rng()\n",
    "samples = rng.normal(size=2500)\n",
    "samples"
   ]
  },
  {
   "cell_type": "code",
   "execution_count": null,
   "metadata": {},
   "outputs": [
    {
     "name": "stdout",
     "output_type": "stream",
     "text": [
      "[{'name': 'Bob', 'age': 1999}, {'name': 'Jack', 'age': 1995}, {'name': 'Lisa', 'age': 2005}, {'name': 'Maria', 'age': 2010}, {'name': 'Ben', 'age': 2007}, {'name': 'Emma', 'age': 2006}, {'name': 'Oscar', 'age': 1994}, {'name': 'Amy', 'age': 1996}, {'name': 'Paul', 'age': 1979}, {'name': 'Etta', 'age': 2008}],"
     ]
    }
   ],
   "source": [
    "print(customer_list,end=\",\")"
   ]
  },
  {
   "cell_type": "code",
   "execution_count": null,
   "metadata": {},
   "outputs": [
    {
     "name": "stdout",
     "output_type": "stream",
     "text": [
      "Bob 23 years old\n",
      "Jack 27 years old\n",
      "Lisa 17 years old\n",
      "Maria 12 years old\n",
      "Ben 15 years old\n",
      "Emma 16 years old\n",
      "Oscar 28 years old\n",
      "Amy 26 years old\n",
      "Paul 43 years old\n",
      "Etta 14 years old\n"
     ]
    }
   ],
   "source": [
    "customer_list = [\n",
    "                    {\"name\": \"Bob\", \"age\": 1999},\n",
    "                    {\"name\": \"Jack\", \"age\": 1995},\n",
    "                    {\"name\": \"Lisa\", \"age\": 2005},\n",
    "                    {\"name\": \"Maria\", \"age\": 2010},\n",
    "                    {\"name\": \"Ben\", \"age\": 2007},\n",
    "                    {\"name\": \"Emma\", \"age\": 2006},\n",
    "                    {\"name\": \"Oscar\", \"age\": 1994},\n",
    "                    {\"name\": \"Amy\", \"age\": 1996},\n",
    "                    {\"name\": \"Paul\", \"age\": 1979},\n",
    "                    {\"name\": \"Etta\", \"age\": 2008}\n",
    "                ]\n",
    "\n",
    "      \n",
    "for i in customer_list:\n",
    "    print (i['name'],2022-i['age'],\"years old\")        "
   ]
  },
  {
   "cell_type": "code",
   "execution_count": null,
   "metadata": {},
   "outputs": [
    {
     "data": {
      "text/plain": [
       "[20, 24, 14, 9, 12, 13, 25, 23, 40]"
      ]
     },
     "execution_count": 57,
     "metadata": {},
     "output_type": "execute_result"
    }
   ],
   "source": [
    "ages = [20, 24, 14, 9, 12, 13, 25, 23, 40, 11]\n",
    "ages.pop(-1)\n",
    "ages"
   ]
  },
  {
   "cell_type": "code",
   "execution_count": null,
   "metadata": {},
   "outputs": [
    {
     "name": "stdout",
     "output_type": "stream",
     "text": [
      "[24, 14, 9, 12, 13, 25, 23, 40, 11]\n"
     ]
    }
   ],
   "source": [
    "ages = [20, 24, 14, 9, 12, 13, 25, 23, 40, 11]\n",
    "del ages[0]\n",
    "print(ages)\n"
   ]
  },
  {
   "cell_type": "code",
   "execution_count": null,
   "metadata": {},
   "outputs": [
    {
     "name": "stdout",
     "output_type": "stream",
     "text": [
      "[20, 24, 14, 9, 12, 13, 25, 23, 11]\n",
      "[20, 24, 14, 12, 13, 25, 23, 11]\n"
     ]
    }
   ],
   "source": [
    "ages = [20, 24, 14, 9, 12, 13, 25, 23, 40, 11]\n",
    "ages.pop(-2)\n",
    "print(ages)\n",
    "del ages[3]\n",
    "print(ages)\n",
    "\n"
   ]
  },
  {
   "cell_type": "code",
   "execution_count": 1,
   "metadata": {},
   "outputs": [
    {
     "data": {
      "text/plain": [
       "[15, 13, 16, 18, 19, 10]"
      ]
     },
     "execution_count": 1,
     "metadata": {},
     "output_type": "execute_result"
    }
   ],
   "source": [
    "#Exercise 13\n",
    "berlin = [15, 13, 16, 18, 19, 10, 12 ]\n",
    "munich = [7, 13, 15, 20, 19, 18, 10, 16]\n",
    "\n",
    "def common_elements(list1, list2):\n",
    "    result = []\n",
    "    for element in list1:\n",
    "        if element in list2:\n",
    "            result.append(element)\n",
    "    return result\n",
    "    \n",
    "common_elements(berlin,munich)"
   ]
  },
  {
   "cell_type": "code",
   "execution_count": 5,
   "metadata": {},
   "outputs": [
    {
     "name": "stdout",
     "output_type": "stream",
     "text": [
      "[15, 13, 16, 18, 19, 10]\n"
     ]
    }
   ],
   "source": [
    "#Exercise 14\n",
    "mylist=[15,13,16,18,19,15,10]\n",
    "\n",
    "mylist = list(dict.fromkeys(mylist))\n",
    "print(mylist)"
   ]
  }
 ],
 "metadata": {
  "interpreter": {
   "hash": "67b459c427cd1141f7956f01385a2f162fa2b4055d02e2b364e35486bd9ba0d3"
  },
  "kernelspec": {
   "display_name": "Python 3.9.12 ('base')",
   "language": "python",
   "name": "python3"
  },
  "language_info": {
   "codemirror_mode": {
    "name": "ipython",
    "version": 3
   },
   "file_extension": ".py",
   "mimetype": "text/x-python",
   "name": "python",
   "nbconvert_exporter": "python",
   "pygments_lexer": "ipython3",
   "version": "3.9.12"
  },
  "orig_nbformat": 4
 },
 "nbformat": 4,
 "nbformat_minor": 2
}
