{
 "cells": [
  {
   "cell_type": "code",
   "execution_count": 8,
   "metadata": {},
   "outputs": [],
   "source": [
    "#Exercise 15\n",
    "\n",
    "def welcome(person):\n",
    "    print(\"Welcome \" + person + \", have a nice day!\")\n",
    "    print(\"Welcome\",person,\", have a nice day\")\n",
    "    print(f\"Welcome {person},have a nice day!\")\n",
    "\n"
   ]
  },
  {
   "cell_type": "code",
   "execution_count": 9,
   "metadata": {},
   "outputs": [
    {
     "name": "stdout",
     "output_type": "stream",
     "text": [
      "Welcome Evelyn, have a nice day!\n",
      "Welcome Evelyn , have a nice day\n",
      "Welcome Evelyn,have a nice day!\n",
      "Welcome Jost, have a nice day!\n",
      "Welcome Jost , have a nice day\n",
      "Welcome Jost,have a nice day!\n"
     ]
    }
   ],
   "source": [
    "students = [\"Evelyn\",\"Jost\"]\n",
    "for i in students:\n",
    "    welcome(i)\n",
    "\n"
   ]
  },
  {
   "cell_type": "code",
   "execution_count": null,
   "metadata": {},
   "outputs": [],
   "source": [
    "i = 0\n",
    "while(i < len(students)):\n",
    "    (welcome(students[i]))\n",
    "    i+=1\n",
    "    "
   ]
  },
  {
   "cell_type": "code",
   "execution_count": null,
   "metadata": {},
   "outputs": [],
   "source": [
    "#Exercise 13\n",
    "berlin = [15, 13, 16, 18, 19, 10, 12 ]\n",
    "munich = [7, 13, 15, 20, 19, 18, 10, 16]\n",
    "hamburg= [74,5,6,7,888,13]\n",
    "common_elements = set(berlin) & set(munich) & set(hamburg) \n",
    "print(common_elements)\n",
    "print(berlin)\n"
   ]
  },
  {
   "cell_type": "code",
   "execution_count": null,
   "metadata": {},
   "outputs": [],
   "source": [
    "#Exercise 16\n",
    "def get_length(length):\n",
    "    print( len(length))\n",
    "    \n",
    "get_length(\"Hello\")\n",
    "get_length(\"Hi\")"
   ]
  },
  {
   "cell_type": "code",
   "execution_count": null,
   "metadata": {},
   "outputs": [],
   "source": [
    "#exercise 17\n",
    "def check_even(number):\n",
    "    if number % 2 == 0:\n",
    "        print(f\"{number} is Even\") \n",
    "\n",
    "    else:\n",
    "        print(\"{} is Odd\".format(number))\n"
   ]
  },
  {
   "cell_type": "code",
   "execution_count": null,
   "metadata": {},
   "outputs": [],
   "source": [
    "\n",
    "check_even(85)\n",
    "check_even(86)\n"
   ]
  },
  {
   "cell_type": "code",
   "execution_count": 15,
   "metadata": {},
   "outputs": [
    {
     "name": "stdout",
     "output_type": "stream",
     "text": [
      "Bob is 23 years old\n",
      "Bob is 23 years old\n",
      "Jack is 27 years old\n",
      "Jack is 27 years old\n",
      "Lisa is 17 years old\n",
      "Lisa is 17 years old\n",
      "Maria is 12 years old\n",
      "Maria is 12 years old\n",
      "Ben is 15 years old\n",
      "Ben is 15 years old\n",
      "Emma is 16 years old\n",
      "Emma is 16 years old\n",
      "Oscar is 28 years old\n",
      "Oscar is 28 years old\n",
      "Amy is 26 years old\n",
      "Amy is 26 years old\n",
      "Paul is 43 years old\n",
      "Paul is 43 years old\n",
      "Etta is 14 years old\n",
      "Etta is 14 years old\n"
     ]
    }
   ],
   "source": [
    "#exercise 18(11)\n",
    "def age_list(lista):\n",
    "    for i in lista:\n",
    "        print(i['name'],\"is\",2022-i['age'],\"years old\") \n",
    "        print(f\"{i['name']} is {2022-i['age']} years old\") \n",
    "\n",
    "list11 = [  \n",
    "{\"name\": \"Bob\", \"age\": 1999},\n",
    "{\"name\": \"Jack\", \"age\": 1995},\n",
    "{\"name\": \"Lisa\", \"age\": 2005},\n",
    "{\"name\": \"Maria\", \"age\": 2010},\n",
    "{\"name\": \"Ben\", \"age\": 2007},\n",
    "{\"name\": \"Emma\", \"age\": 2006},\n",
    "{\"name\": \"Oscar\", \"age\": 1994},\n",
    "{\"name\": \"Amy\", \"age\": 1996},\n",
    "{\"name\": \"Paul\", \"age\": 1979},\n",
    "{\"name\": \"Etta\", \"age\": 2008}\n",
    "]\n",
    "\n",
    "age_list(list11)"
   ]
  },
  {
   "cell_type": "code",
   "execution_count": 14,
   "metadata": {},
   "outputs": [
    {
     "data": {
      "text/plain": [
       "[20, 24, 14, 12, 13, 25, 23, 11]"
      ]
     },
     "execution_count": 14,
     "metadata": {},
     "output_type": "execute_result"
    }
   ],
   "source": [
    "#exercise 18(12)\n",
    "def out(list):\n",
    "    sorted(list)\n",
    "    list.remove(max(list))\n",
    "    list.remove(min(list))\n",
    "    return (list)\n",
    "\n",
    "ages = [20, 24, 14, 9, 12, 13, 25, 23, 40, 11]\n",
    "\n",
    "out(ages)\n",
    "\n",
    "\n"
   ]
  },
  {
   "cell_type": "code",
   "execution_count": null,
   "metadata": {},
   "outputs": [],
   "source": [
    "#exercise 18(13)\n",
    "berlin = [15, 13, 16, 18, 19, 10, 12 ]\n",
    "munich = [7, 13, 15, 20, 19, 18, 10, 16]\n",
    "\n",
    "def common_elements(list1, list2):\n",
    "    result = []\n",
    "    for element in list1:\n",
    "        if element in list2:\n",
    "            result.append(element)\n",
    "    return result\n",
    "    print(result)\n",
    "    \n",
    "    \n",
    "common_elements(berlin,munich)"
   ]
  },
  {
   "cell_type": "code",
   "execution_count": null,
   "metadata": {},
   "outputs": [],
   "source": [
    "def common(x,y):\n",
    "    common1= set(x) & set(y)\n",
    "    print(common1)\n",
    "\n",
    "berlin = [15, 13, 16, 18, 19, 10, 12 ]\n",
    "munich = [7, 13, 15, 20, 19, 18, 10, 16]\n",
    "common(berlin,munich)"
   ]
  },
  {
   "cell_type": "code",
   "execution_count": 1,
   "metadata": {},
   "outputs": [
    {
     "data": {
      "text/plain": [
       "[7, 13, 15, 20, 19, 18, 10, 16]"
      ]
     },
     "execution_count": 1,
     "metadata": {},
     "output_type": "execute_result"
    }
   ],
   "source": [
    "#exercise 18(14)\n",
    "\n",
    " \n",
    "def afair1(x):\n",
    "    return list(dict.fromkeys(x))\n",
    "\n",
    "\n",
    "mylist =[7, 13, 15, 20, 19,19, 18, 10, 16]\n",
    "#mylist = [\"a\", \"b\", \"a\", \"c\", \"c\"]\n",
    "\n",
    "afair1(mylist)\n",
    "\n",
    "\n",
    "\n",
    "\n"
   ]
  },
  {
   "cell_type": "code",
   "execution_count": 16,
   "metadata": {},
   "outputs": [
    {
     "ename": "NameError",
     "evalue": "name 'common_elements' is not defined",
     "output_type": "error",
     "traceback": [
      "\u001b[1;31m---------------------------------------------------------------------------\u001b[0m",
      "\u001b[1;31mNameError\u001b[0m                                 Traceback (most recent call last)",
      "\u001b[1;32mc:\\Users\\trifo\\Desktop\\Code Academy\\jupyter\\functions.ipynb Cell 13'\u001b[0m in \u001b[0;36m<cell line: 24>\u001b[1;34m()\u001b[0m\n\u001b[0;32m     <a href='vscode-notebook-cell:/c%3A/Users/trifo/Desktop/Code%20Academy/jupyter/functions.ipynb#ch0000012?line=19'>20</a>\u001b[0m     \u001b[39mreturn\u001b[39;00m result\n\u001b[0;32m     <a href='vscode-notebook-cell:/c%3A/Users/trifo/Desktop/Code%20Academy/jupyter/functions.ipynb#ch0000012?line=20'>21</a>\u001b[0m     \u001b[39mprint\u001b[39m(result)\n\u001b[1;32m---> <a href='vscode-notebook-cell:/c%3A/Users/trifo/Desktop/Code%20Academy/jupyter/functions.ipynb#ch0000012?line=23'>24</a>\u001b[0m common_elements(berlin,munich)\n",
      "\u001b[1;31mNameError\u001b[0m: name 'common_elements' is not defined"
     ]
    }
   ],
   "source": [
    "'''#exercise 19\n",
    "def input_age():\n",
    "   while True:\n",
    "        age_value=input(\"Give your age: \")\n",
    "        for i in age_value:\n",
    "            if i in age_value:\n",
    "                return (paok)\n",
    "            else:\n",
    "                return (aek)\n",
    "            '''\n",
    "#exercise 19\n",
    "berlin = [15, 13, 16, 18, 19, 10, 12 ]\n",
    "munich = [7, 13, 15, 20, 19, 18, 10, 16]\n",
    "\n",
    "def age_list(list1, age1):\n",
    "    list1=int(input(\"enter your age: \"))\n",
    "    for element in list1:\n",
    "        if element in list2:\n",
    "            result.append(element)\n",
    "    return result\n",
    "    print(result)\n",
    "    \n",
    "    \n",
    "common_elements(berlin,munich)\n"
   ]
  },
  {
   "cell_type": "code",
   "execution_count": 17,
   "metadata": {},
   "outputs": [
    {
     "ename": "NameError",
     "evalue": "name 'input_age' is not defined",
     "output_type": "error",
     "traceback": [
      "\u001b[1;31m---------------------------------------------------------------------------\u001b[0m",
      "\u001b[1;31mNameError\u001b[0m                                 Traceback (most recent call last)",
      "\u001b[1;32mc:\\Users\\trifo\\Desktop\\Code Academy\\jupyter\\functions.ipynb Cell 14'\u001b[0m in \u001b[0;36m<cell line: 1>\u001b[1;34m()\u001b[0m\n\u001b[1;32m----> <a href='vscode-notebook-cell:/c%3A/Users/trifo/Desktop/Code%20Academy/jupyter/functions.ipynb#ch0000013?line=0'>1</a>\u001b[0m input_age(\u001b[39m15\u001b[39m)\n",
      "\u001b[1;31mNameError\u001b[0m: name 'input_age' is not defined"
     ]
    }
   ],
   "source": [
    "input_age(15)"
   ]
  },
  {
   "cell_type": "code",
   "execution_count": 23,
   "metadata": {},
   "outputs": [
    {
     "ename": "ValueError",
     "evalue": "invalid literal for int() with base 10: ''",
     "output_type": "error",
     "traceback": [
      "\u001b[1;31m---------------------------------------------------------------------------\u001b[0m",
      "\u001b[1;31mValueError\u001b[0m                                Traceback (most recent call last)",
      "\u001b[1;32mc:\\Users\\trifo\\Desktop\\Code Academy\\jupyter\\functions.ipynb Cell 15'\u001b[0m in \u001b[0;36m<cell line: 4>\u001b[1;34m()\u001b[0m\n\u001b[0;32m      <a href='vscode-notebook-cell:/c%3A/Users/trifo/Desktop/Code%20Academy/jupyter/functions.ipynb#ch0000014?line=2'>3</a>\u001b[0m i\u001b[39m=\u001b[39m\u001b[39m0\u001b[39m\n\u001b[0;32m      <a href='vscode-notebook-cell:/c%3A/Users/trifo/Desktop/Code%20Academy/jupyter/functions.ipynb#ch0000014?line=3'>4</a>\u001b[0m \u001b[39mwhile\u001b[39;00m i\u001b[39m<\u001b[39m\u001b[39m4\u001b[39m:\n\u001b[1;32m----> <a href='vscode-notebook-cell:/c%3A/Users/trifo/Desktop/Code%20Academy/jupyter/functions.ipynb#ch0000014?line=4'>5</a>\u001b[0m     enter_age\u001b[39m=\u001b[39m\u001b[39mint\u001b[39;49m(\u001b[39minput\u001b[39;49m(\u001b[39m\"\u001b[39;49m\u001b[39mgive various ages: \u001b[39;49m\u001b[39m\"\u001b[39;49m))\n\u001b[0;32m      <a href='vscode-notebook-cell:/c%3A/Users/trifo/Desktop/Code%20Academy/jupyter/functions.ipynb#ch0000014?line=5'>6</a>\u001b[0m     myage_list\u001b[39m.\u001b[39mappend(enter_age)\n\u001b[0;32m      <a href='vscode-notebook-cell:/c%3A/Users/trifo/Desktop/Code%20Academy/jupyter/functions.ipynb#ch0000014?line=6'>7</a>\u001b[0m     i\u001b[39m+\u001b[39m\u001b[39m=\u001b[39m\u001b[39m1\u001b[39m\n",
      "\u001b[1;31mValueError\u001b[0m: invalid literal for int() with base 10: ''"
     ]
    }
   ],
   "source": [
    "myage_list=[]\n",
    "\n",
    "i=0\n",
    "while i<4:\n",
    "    enter_age=int(input(\"give various ages: \"))\n",
    "    myage_list.append(enter_age)\n",
    "    i+=1\n",
    "\n",
    "def check_age(age_value):\n",
    "    if age_value in myage_list:\n",
    "        print(\"true dude\")\n",
    "        \n",
    "    else:\n",
    "        print(\"not there\")\n",
    "existage=int(input(\"check if age exist in list: \"))\n",
    "check_age(existage)\n",
    "\n"
   ]
  },
  {
   "cell_type": "code",
   "execution_count": 27,
   "metadata": {},
   "outputs": [
    {
     "name": "stdout",
     "output_type": "stream",
     "text": [
      "False\n",
      "True\n",
      "False\n"
     ]
    }
   ],
   "source": [
    "#exercise 19\n",
    "\n",
    "def num_finder(list,value):\n",
    "    return value in list\n",
    "\n",
    "print(num_finder([1,3,5],2))\n",
    "print(num_finder([1,3,5],3))\n",
    "print(num_finder({3,2},5))"
   ]
  }
 ],
 "metadata": {
  "interpreter": {
   "hash": "67b459c427cd1141f7956f01385a2f162fa2b4055d02e2b364e35486bd9ba0d3"
  },
  "kernelspec": {
   "display_name": "Python 3.9.12 ('base')",
   "language": "python",
   "name": "python3"
  },
  "language_info": {
   "codemirror_mode": {
    "name": "ipython",
    "version": 3
   },
   "file_extension": ".py",
   "mimetype": "text/x-python",
   "name": "python",
   "nbconvert_exporter": "python",
   "pygments_lexer": "ipython3",
   "version": "3.9.12"
  },
  "orig_nbformat": 4
 },
 "nbformat": 4,
 "nbformat_minor": 2
}
